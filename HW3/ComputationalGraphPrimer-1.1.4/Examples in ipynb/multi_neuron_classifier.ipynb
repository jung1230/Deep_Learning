{
 "cells": [
  {
   "cell_type": "code",
   "execution_count": 3,
   "metadata": {},
   "outputs": [
    {
     "ename": "NameError",
     "evalue": "name '__file__' is not defined",
     "output_type": "error",
     "traceback": [
      "\u001b[0;31m---------------------------------------------------------------------------\u001b[0m",
      "\u001b[0;31mNameError\u001b[0m                                 Traceback (most recent call last)",
      "Cell \u001b[0;32mIn[3], line 49\u001b[0m\n\u001b[1;32m     47\u001b[0m \u001b[38;5;28;01mimport\u001b[39;00m\u001b[38;5;250m \u001b[39m\u001b[38;5;21;01mos\u001b[39;00m\n\u001b[1;32m     48\u001b[0m \u001b[38;5;28;01mimport\u001b[39;00m\u001b[38;5;250m \u001b[39m\u001b[38;5;21;01msys\u001b[39;00m\n\u001b[0;32m---> 49\u001b[0m sys\u001b[38;5;241m.\u001b[39mpath\u001b[38;5;241m.\u001b[39mappend(os\u001b[38;5;241m.\u001b[39mpath\u001b[38;5;241m.\u001b[39mabspath(os\u001b[38;5;241m.\u001b[39mpath\u001b[38;5;241m.\u001b[39mjoin(os\u001b[38;5;241m.\u001b[39mpath\u001b[38;5;241m.\u001b[39mdirname(\u001b[38;5;18;43m__file__\u001b[39;49m), \u001b[38;5;124m'\u001b[39m\u001b[38;5;124m..\u001b[39m\u001b[38;5;124m'\u001b[39m)))\n\u001b[1;32m     51\u001b[0m \u001b[38;5;28;01mfrom\u001b[39;00m\u001b[38;5;250m \u001b[39m\u001b[38;5;21;01mComputationalGraphPrimer\u001b[39;00m\u001b[38;5;250m \u001b[39m\u001b[38;5;28;01mimport\u001b[39;00m \u001b[38;5;241m*\u001b[39m\n\u001b[1;32m     53\u001b[0m cgp \u001b[38;5;241m=\u001b[39m ComputationalGraphPrimer(\n\u001b[1;32m     54\u001b[0m                num_layers \u001b[38;5;241m=\u001b[39m \u001b[38;5;241m3\u001b[39m,\n\u001b[1;32m     55\u001b[0m                layers_config \u001b[38;5;241m=\u001b[39m [\u001b[38;5;241m4\u001b[39m,\u001b[38;5;241m2\u001b[39m,\u001b[38;5;241m1\u001b[39m],                         \u001b[38;5;66;03m# num of nodes in each layer\u001b[39;00m\n\u001b[0;32m   (...)\u001b[0m\n\u001b[1;32m     65\u001b[0m                debug \u001b[38;5;241m=\u001b[39m \u001b[38;5;28;01mTrue\u001b[39;00m,\n\u001b[1;32m     66\u001b[0m       )\n",
      "\u001b[0;31mNameError\u001b[0m: name '__file__' is not defined"
     ]
    }
   ],
   "source": [
    "#!/usr/bin/env python\n",
    "\n",
    "##  multi_neuron_classifier.py\n",
    "\n",
    "\"\"\"\n",
    "The main point of this script is to demonstrate saving the partial derivatives during the\n",
    "forward propagation of data through a neural network and using that information for\n",
    "backpropagating the loss and for updating the values for the learnable parameters.  The\n",
    "script uses the following 4-2-1 network layout, with 4 nodes in the input layer, 2 in\n",
    "the hidden layer and 1 in the output layer as shown below:\n",
    "\n",
    "\n",
    "                               input\n",
    "\n",
    "                                 x                                             x = node\n",
    "\n",
    "                                 x         x|                                  | = sigmoid activation\n",
    "                                                     x|\n",
    "                                 x         x|\n",
    "\n",
    "                                 x\n",
    "\n",
    "                             layer_0    layer_1    layer_2\n",
    "\n",
    "\n",
    "To explain what information is stored during the forward pass and how that\n",
    "information is used during the backprop step, see the comment blocks associated with\n",
    "the functions\n",
    "\n",
    "         forward_prop_multi_neuron_model()   \n",
    "and\n",
    "         backprop_and_update_params_multi_neuron_model()\n",
    "\n",
    "Both of these functions are called by the training function:\n",
    "\n",
    "         run_training_loop_multi_neuron_model()\n",
    "\n",
    "\"\"\"\n",
    "\n",
    "import random\n",
    "import numpy\n",
    "\n",
    "seed = 100           \n",
    "random.seed(seed)\n",
    "numpy.random.seed(seed)\n",
    "\n",
    "import os\n",
    "import sys\n",
    "sys.path.append(os.path.abspath(os.path.join(os.path.dirname(__file__), '..')))\n",
    "\n",
    "from ComputationalGraphPrimer import *\n",
    "\n",
    "cgp = ComputationalGraphPrimer(\n",
    "               num_layers = 3,\n",
    "               layers_config = [4,2,1],                         # num of nodes in each layer\n",
    "               expressions = ['xw=ap*xp+aq*xq+ar*xr+as*xs',\n",
    "                              'xz=bp*xp+bq*xq+br*xr+bs*xs',\n",
    "                              'xo=cp*xw+cq*xz'],\n",
    "               output_vars = ['xo'],\n",
    "               dataset_size = 5000,\n",
    "               learning_rate = 9e-2,\n",
    "               training_iterations = 20000,\n",
    "               batch_size = 8,\n",
    "               display_loss_how_often = 100,\n",
    "               debug = True,\n",
    "      )\n",
    "\n",
    "cgp.parse_multi_layer_expressions()\n",
    "\n",
    "cgp.display_multi_neuron_network()   \n",
    "\n",
    "training_data = cgp.gen_training_data()\n",
    "\n",
    "cgp.run_training_loop_multi_neuron_model( training_data )\n",
    "\n"
   ]
  },
  {
   "cell_type": "code",
   "execution_count": null,
   "metadata": {},
   "outputs": [],
   "source": []
  }
 ],
 "metadata": {
  "kernelspec": {
   "display_name": "ece60146",
   "language": "python",
   "name": "python3"
  },
  "language_info": {
   "codemirror_mode": {
    "name": "ipython",
    "version": 3
   },
   "file_extension": ".py",
   "mimetype": "text/x-python",
   "name": "python",
   "nbconvert_exporter": "python",
   "pygments_lexer": "ipython3",
   "version": "3.10.16"
  }
 },
 "nbformat": 4,
 "nbformat_minor": 2
}
