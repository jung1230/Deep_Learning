{
 "cells": [
  {
   "cell_type": "markdown",
   "metadata": {},
   "source": [
    "# Homework 2\n",
    "## Introduction and Understanding Pixel Value Scaling, Normalization and Data Augmentation\n",
    "This homework is focusing on libraries such as PIL, Numpy, and PyTorch.\n",
    "In the lecture, it is very important to understand that the format of image and each library. Image is in the format of H x W(number of row, number of column), like matrix. Numpy is in the format of (H, W, C), while Pytorch is (C, H, W).\n",
    "For the image preprocessing part for our neural network, we have to scaling image data to floating point range, and normalize it to floating point range (-1.0, 1.0) to center the data around zero. These steps improve the convergence behavior during training."
   ]
  },
  {
   "cell_type": "code",
   "execution_count": null,
   "metadata": {
    "vscode": {
     "languageId": "plaintext"
    }
   },
   "outputs": [],
   "source": []
  }
 ],
 "metadata": {
  "language_info": {
   "name": "python"
  }
 },
 "nbformat": 4,
 "nbformat_minor": 2
}
