{
 "cells": [
  {
   "cell_type": "markdown",
   "metadata": {},
   "source": [
    "# 1. Extract Multi-instance images from COCO"
   ]
  },
  {
   "cell_type": "markdown",
   "metadata": {},
   "source": [
    "### 1.1 3x3 grid image with annotations"
   ]
  },
  {
   "cell_type": "code",
   "execution_count": null,
   "metadata": {},
   "outputs": [
    {
     "name": "stdout",
     "output_type": "stream",
     "text": [
      "loading annotations into memory...\n",
      "Done (t=8.96s)\n",
      "creating index...\n",
      "index created!\n",
      "Extracted 1242 images\n",
      "pizza\n",
      "Extracted 1279 images\n",
      "cat\n",
      "Extracted 1436 images\n",
      "bus\n",
      "loading annotations into memory...\n"
     ]
    },
    {
     "name": "stderr",
     "output_type": "stream",
     "text": [
      "Exception ignored in: <bound method IPythonKernel._clean_thread_parent_frames of <ipykernel.ipkernel.IPythonKernel object at 0x00000150CC1A0D00>>\n",
      "Traceback (most recent call last):\n",
      "  File \"c:\\Users\\alanc\\miniconda3\\envs\\ece60146\\lib\\site-packages\\ipykernel\\ipkernel.py\", line 775, in _clean_thread_parent_frames\n",
      "    def _clean_thread_parent_frames(\n",
      "KeyboardInterrupt: \n"
     ]
    },
    {
     "name": "stdout",
     "output_type": "stream",
     "text": [
      "Done (t=5.02s)\n",
      "creating index...\n",
      "index created!\n",
      "Extracted 634 images\n",
      "pizza\n",
      "Extracted 729 images\n",
      "cat\n",
      "Extracted 699 images\n",
      "bus\n"
     ]
    }
   ],
   "source": [
    "from PIL import Image\n",
    "import os\n",
    "from pycocotools.coco import COCO\n",
    "\n",
    "\n",
    "# Loads an image, resizes it to 256x256, scales its bounding boxes, and saves the resized image. Returns the updated annotations.\n",
    "def save_image(img_info, valid_images, anns,img_dir, output_dir):\n",
    "    img_path = os.path.join(img_dir, img_info['file_name']) # get the image path\n",
    "\n",
    "    save_dir = os.path.join(output_dir)\n",
    "\n",
    "    os.makedirs(save_dir, exist_ok=True)\n",
    "\n",
    "    # # Check if the file exists before opening\n",
    "    # if not os.path.exists(img_path):\n",
    "    #     print(f\"Skipping {img_info['file_name']} - File not found.\")\n",
    "    #     return  \n",
    "\n",
    "    # Load and resize image\n",
    "    img = Image.open(img_path).resize((256, 256))\n",
    "    img.save(save_dir)\n",
    "\n",
    "def extract_images(cat_names, img_dir, output_dir):\n",
    "    ## Requirements:\n",
    "    # 1. Contains at least one foreground object. A foreground object must be from one of the \n",
    "    # three categories: [ ’pizza’, ’cat’, ’bus’].\n",
    "\n",
    "    # 2. Additionally, the area of any foreground object must be larger than 200×200 = 40000 pixels. \n",
    "    # There can be multiple foreground objects in an image since we are dealing with multi-instance \n",
    "    # object localization for this homework. If there is none, that image should be discarded.\n",
    "\n",
    "    # 3. When saving your images to disk, resize them to 256×256. Note that you would also need to \n",
    "    # scale the bounding box parameters accordingly after resizing\n",
    "\n",
    "    cat_ids = coco.getCatIds(catNms=cat_names)\n",
    "\n",
    "    # get all image IDs containing the above categories\n",
    "    img_ids = coco.getImgIds(catIds=cat_ids)\n",
    "\n",
    "    min_area = 40000  # 200x200\n",
    "\n",
    "\n",
    "    # List to store valid images\n",
    "    valid_images = []\n",
    "    target_category = [\"pizza\", \"cat\", \"bus\"]\n",
    "\n",
    "    # loop through the images\n",
    "    for img_id in img_ids:\n",
    "        img_info = coco.loadImgs(img_id)[0] # get image info to save the data later\n",
    "\n",
    "        # These are annotation IDs for objects detected in a specific image. (we are not using this)\n",
    "        ann_ids = coco.getAnnIds(imgIds=img_id, iscrowd=False)\n",
    "\n",
    "        # anns includes bounding box, category ID, and segmentation, area, imageID!!!!!!!!!!!!!!!!\n",
    "        anns = coco.loadAnns(ann_ids)\n",
    "\n",
    "        # Filter annotations: keep only those whose category is in foreground_categories \n",
    "        # and whose area is larger than min_area.\n",
    "        valid_anns = []\n",
    "\n",
    "        for ann in anns:\n",
    "            # return object category name, like obj_category: umbrella, obj_category: carrot...\n",
    "            obj_category = coco.loadCats(ann['category_id'])[0]['name']\n",
    "            \n",
    "            # if this object category is in target_category and area is larger than min_area\n",
    "            if obj_category in target_category and ann['area'] > min_area:\n",
    "                valid_anns.append(ann)\n",
    "\n",
    "        # If at least one valid annotation exists, add the image to our list\n",
    "        if valid_anns:\n",
    "            valid_images.append((img_info, valid_anns))\n",
    "        \n",
    "    for img_info, valid_anns in valid_images:\n",
    "        # start here!!!!!!!!!!!!!!!!!!!!!!!!\n",
    "        save_image(img_info, valid_images, valid_anns, img_dir, output_dir)\n",
    "    \n",
    "\n",
    "\n",
    "\n",
    "\n",
    "# Set COCO dataset paths\n",
    "# data_dir = os.getcwd()\n",
    "\n",
    "#  mac users\n",
    "# ann_file = os.path.join(data_dir, \"annotations/instances_train2014.json\") \n",
    "# image_dir = os.path.join(data_dir, \"train2014/train2014\")  \n",
    "\n",
    "# windows users\n",
    "ann_file_train = \"./../HW6/annotations/instances_train2014.json\"\n",
    "image_dir_train = \"./../HW6/train2014/train2014\" \n",
    "image_dir_val = \"./val2014/val2014\"\n",
    "\n",
    "ann_file_val = \"./../HW6/annotations/instances_val2014.json\"\n",
    "output_dir_train = \"./../data/Multi-instance_images_from_COCO(HW7)/train\"\n",
    "output_dir_val = \"./../data/Multi-instance_images_from_COCO(HW7)/val\"\n",
    "\n",
    "\n",
    "\n",
    "# Ensure output directories exist\n",
    "os.makedirs(output_dir_train, exist_ok=True)\n",
    "os.makedirs(output_dir_val, exist_ok=True)\n",
    "\n",
    "# Load COCO dataset\n",
    "coco = COCO(ann_file_train)\n",
    "\n",
    "extract_images([\"pizza\"], img_dir = image_dir_train, output_dir = output_dir_train)\n",
    "extract_images([\"cat\"], img_dir = image_dir_train, output_dir = output_dir_train)\n",
    "extract_images([\"bus\"], img_dir = image_dir_val, output_dir = output_dir_train)\n",
    "\n",
    "# Load COCO dataset\n",
    "coco = COCO(ann_file_val)\n",
    "extract_images([\"pizza\"], img_dir = image_dir_val, output_dir = output_dir_val)\n",
    "extract_images([\"cat\"], img_dir = image_dir_val, output_dir = output_dir_val)\n",
    "extract_images([\"bus\"], img_dir = image_dir_val, output_dir = output_dir_val)\n",
    "\n"
   ]
  },
  {
   "cell_type": "markdown",
   "metadata": {},
   "source": [
    "# 2. Dataloader"
   ]
  },
  {
   "cell_type": "markdown",
   "metadata": {},
   "source": [
    "### 2.1 Code block showing all parameters for yolo vector are generated"
   ]
  },
  {
   "cell_type": "markdown",
   "metadata": {},
   "source": [
    "### 2.2 explanationg showing all parameters for yolo vector are generated"
   ]
  },
  {
   "cell_type": "markdown",
   "metadata": {},
   "source": [
    "# 3. Training"
   ]
  },
  {
   "cell_type": "markdown",
   "metadata": {},
   "source": [
    "### 3.1 Code block showing how yolo tensor is built"
   ]
  },
  {
   "cell_type": "markdown",
   "metadata": {},
   "source": [
    "### 3.2 explanation of building how yolo tensor is built"
   ]
  },
  {
   "cell_type": "markdown",
   "metadata": {},
   "source": [
    "### 3.3 BCE, CE, MSE loss curves"
   ]
  },
  {
   "cell_type": "markdown",
   "metadata": {},
   "source": [
    "# 4. Evaluation"
   ]
  },
  {
   "cell_type": "markdown",
   "metadata": {},
   "source": [
    "### 4.1 Code block translate yolo tensor to BB pred and class label"
   ]
  },
  {
   "cell_type": "markdown",
   "metadata": {},
   "source": [
    "### 4.2 Explanation translate yolo tensor to BB pred and class label"
   ]
  },
  {
   "cell_type": "markdown",
   "metadata": {},
   "source": [
    "### 4.3 24 images"
   ]
  },
  {
   "cell_type": "markdown",
   "metadata": {},
   "source": [
    "# 5. Bonus IoU loss with DIoU"
   ]
  },
  {
   "cell_type": "markdown",
   "metadata": {},
   "source": [
    "### 5.1 BCE, CE, DIoU loss curves"
   ]
  },
  {
   "cell_type": "markdown",
   "metadata": {},
   "source": [
    "### 5.2 24 images"
   ]
  },
  {
   "cell_type": "markdown",
   "metadata": {},
   "source": []
  }
 ],
 "metadata": {
  "kernelspec": {
   "display_name": "ece60146",
   "language": "python",
   "name": "python3"
  },
  "language_info": {
   "codemirror_mode": {
    "name": "ipython",
    "version": 3
   },
   "file_extension": ".py",
   "mimetype": "text/x-python",
   "name": "python",
   "nbconvert_exporter": "python",
   "pygments_lexer": "ipython3",
   "version": "3.10.16"
  }
 },
 "nbformat": 4,
 "nbformat_minor": 2
}
