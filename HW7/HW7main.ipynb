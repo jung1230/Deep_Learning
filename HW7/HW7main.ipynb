{
 "cells": [
  {
   "cell_type": "markdown",
   "metadata": {},
   "source": [
    "# 1. Extract Multi-instance images from COCO"
   ]
  },
  {
   "cell_type": "markdown",
   "metadata": {},
   "source": [
    "### 1.1 3x3 grid image with annotations"
   ]
  },
  {
   "cell_type": "code",
   "execution_count": 17,
   "metadata": {},
   "outputs": [
    {
     "name": "stdout",
     "output_type": "stream",
     "text": [
      "loading annotations into memory...\n",
      "Done (t=29.82s)\n",
      "creating index...\n",
      "index created!\n",
      "loading annotations into memory...\n",
      "Done (t=15.14s)\n",
      "creating index...\n",
      "index created!\n"
     ]
    }
   ],
   "source": [
    "from PIL import Image\n",
    "import os\n",
    "from pycocotools.coco import COCO\n",
    "import json\n",
    "\n",
    "\n",
    "# Loads an image, resizes it to 256x256, scales its bounding boxes, and saves the resized image. Returns the updated annotations.\n",
    "def save_image(img_info, anns,img_dir, output_dir):\n",
    "    img_path = os.path.normpath(os.path.join(img_dir, img_info['file_name'])) # get the image path, normalizing the path to handle mixed separators\n",
    "    # print(\"img_path = \",img_path)\n",
    "    os.makedirs(output_dir, exist_ok=True)\n",
    "    # print(\"output_dir = \",save_dir)\n",
    "\n",
    "\n",
    "    # Check if the file exists before opening\n",
    "    if not os.path.exists(img_path):\n",
    "        print(f\"Skipping {img_path} - File not found.\")\n",
    "        return  \n",
    "\n",
    "    # load the image\n",
    "    img = Image.open(img_path)\n",
    "\n",
    "    # cal the scaling factor for width and height, for cal BB later \n",
    "    width, height = img.size\n",
    "    scale_w = 256 / width\n",
    "    scale_h = 256 / height\n",
    "\n",
    "    # resize the image to 256*256\n",
    "    img = img.resize((256, 256))\n",
    "\n",
    "    save_path = os.path.join(output_dir, img_info['file_name'])\n",
    "    img.save(save_path)\n",
    "\n",
    "    # resize the BB according to the scaling factor\n",
    "    new_anns = []\n",
    "    for ann in anns:\n",
    "        # get the BB\n",
    "        x, y, w, h = ann['bbox']\n",
    "\n",
    "        # scale the BB\n",
    "        x *= scale_w\n",
    "        y *= scale_h\n",
    "        w *= scale_w\n",
    "        h *= scale_h\n",
    "        # update the BB\n",
    "        ann['bbox'] = [x, y, w, h]\n",
    "        ann['area'] = w*h\n",
    "\n",
    "        new_anns.append(ann)\n",
    "\n",
    "    return new_anns\n",
    "\n",
    "\n",
    "\n",
    "def update_annotation_file(new_images, updated_anns, original_ann_file):\n",
    "    # Load the original annotation file to retrieve the categories information\n",
    "    with open(original_ann_file, 'r') as f:\n",
    "        original_data = json.load(f)\n",
    "    \n",
    "    # Update the images and annotations fields\n",
    "    original_data['images'] = new_images\n",
    "    original_data['annotations'] = updated_anns\n",
    "    \n",
    "    # Write the updated data back to the original file\n",
    "    with open(original_ann_file, 'w') as f:\n",
    "        json.dump(original_data, f)\n",
    "\n",
    "\n",
    "\n",
    "def extract_images(cat_names, img_dir, output_dir , original_ann_file):\n",
    "    ## Requirements:\n",
    "    # 1. Contains at least one foreground object. A foreground object must be from one of the \n",
    "    # three categories: [ ’pizza’, ’cat’, ’bus’].\n",
    "\n",
    "    # 2. Additionally, the area of any foreground object must be larger than 200×200 = 40000 pixels. \n",
    "    # There can be multiple foreground objects in an image since we are dealing with multi-instance \n",
    "    # object localization for this homework. If there is none, that image should be discarded.\n",
    "\n",
    "    # 3. When saving your images to disk, resize them to 256×256. Note that you would also need to \n",
    "    # scale the bounding box parameters accordingly after resizing\n",
    "\n",
    "    cat_ids = coco.getCatIds(catNms=cat_names)\n",
    "\n",
    "    # get all image IDs containing the above categories\n",
    "    img_ids = coco.getImgIds(catIds=cat_ids)\n",
    "\n",
    "    min_area = 40000  # 200x200\n",
    "\n",
    "\n",
    "    # List to store valid images\n",
    "    valid_images = []\n",
    "    target_category = [\"pizza\", \"cat\", \"bus\"]\n",
    "    updated_anns_total = []\n",
    "\n",
    "    # loop through the images\n",
    "    for img_id in img_ids:\n",
    "        img_info = coco.loadImgs(img_id)[0] # get image info to save the data later\n",
    "\n",
    "        # These are annotation IDs for objects detected in a specific image. (we are not using this)\n",
    "        ann_ids = coco.getAnnIds(imgIds=img_id, iscrowd=False)\n",
    "\n",
    "        # anns includes bounding box, category ID, and segmentation, area, imageID!!!!!!!!!!!!!!!!\n",
    "        anns = coco.loadAnns(ann_ids)\n",
    "\n",
    "        # Filter annotations: keep only those whose category is in foreground_categories \n",
    "        # and whose area is larger than min_area.\n",
    "        valid_anns = []\n",
    "\n",
    "        for ann in anns:\n",
    "            # return object category name, like obj_category: umbrella, obj_category: carrot...\n",
    "            obj_category = coco.loadCats(ann['category_id'])[0]['name']\n",
    "            \n",
    "            # if this object category is in target_category and area is larger than min_area\n",
    "            if obj_category in target_category and ann['area'] > min_area:\n",
    "                valid_anns.append(ann)\n",
    "        \n",
    "        \n",
    "        # print(f\"Found {len(valid_images)} images with valid annotations.\") ## 3957 for training, 2062 for validation.\n",
    "\n",
    "        # If at least one valid annotation exists, save the image and update the annotations\n",
    "        if valid_anns:\n",
    "            new_anns = save_image(img_info, valid_anns, img_dir, output_dir) \n",
    "\n",
    "            if new_anns:\n",
    "                valid_images.append(img_info)\n",
    "                updated_anns_total.extend(new_anns)\n",
    "\n",
    "    update_annotation_file(valid_images, updated_anns_total, original_ann_file)\n",
    "\n",
    "\n",
    "\n",
    "# Set COCO dataset paths\n",
    "# data_dir = os.getcwd()\n",
    "\n",
    "#  mac users\n",
    "# ann_file = os.path.join(data_dir, \"annotations/instances_train2014.json\") \n",
    "# image_dir = os.path.join(data_dir, \"train2014/train2014\")  \n",
    "\n",
    "# windows users\n",
    "ann_file_train = \"./../HW6/annotations/instances_train2014.json\"\n",
    "image_dir_train = \"./../HW6/train2014/train2014\" \n",
    "image_dir_val = \"./val2014/val2014\"\n",
    "\n",
    "ann_file_val = \"./../HW6/annotations/instances_val2014.json\"\n",
    "output_dir_train = \"./../data/Multi-instance_images_from_COCO(HW7)/train\"\n",
    "output_dir_val = \"./../data/Multi-instance_images_from_COCO(HW7)/val\"\n",
    "\n",
    "original_ann_file = \"./../HW6/annotations/instances_train2014.json\"\n",
    "\n",
    "\n",
    "# Ensure output directories exist\n",
    "os.makedirs(output_dir_train, exist_ok=True)\n",
    "os.makedirs(output_dir_val, exist_ok=True)\n",
    "\n",
    "\n",
    "# Load COCO dataset\n",
    "coco = COCO(ann_file_train)\n",
    "\n",
    "extract_images([\"pizza\"], img_dir = image_dir_train, output_dir = output_dir_train, original_ann_file =ann_file_train)\n",
    "extract_images([\"cat\"], img_dir = image_dir_train, output_dir = output_dir_train, original_ann_file =ann_file_train)\n",
    "extract_images([\"bus\"], img_dir = image_dir_train, output_dir = output_dir_train, original_ann_file =ann_file_train)\n",
    "\n",
    "# Load COCO dataset\n",
    "coco = COCO(ann_file_val)\n",
    "extract_images([\"pizza\"], img_dir = image_dir_val, output_dir = output_dir_val, original_ann_file =ann_file_val)\n",
    "extract_images([\"cat\"], img_dir = image_dir_val, output_dir = output_dir_val, original_ann_file =ann_file_val)\n",
    "extract_images([\"bus\"], img_dir = image_dir_val, output_dir = output_dir_val, original_ann_file =ann_file_val)"
   ]
  },
  {
   "cell_type": "code",
   "execution_count": null,
   "metadata": {},
   "outputs": [
    {
     "ename": "AttributeError",
     "evalue": "'numpy.ufunc' object has no attribute '__qualname__'",
     "output_type": "error",
     "traceback": [
      "\u001b[1;31m---------------------------------------------------------------------------\u001b[0m",
      "\u001b[1;31mAttributeError\u001b[0m                            Traceback (most recent call last)",
      "Cell \u001b[1;32mIn[25], line 1\u001b[0m\n\u001b[1;32m----> 1\u001b[0m \u001b[38;5;28;01mimport\u001b[39;00m\u001b[38;5;250m \u001b[39m\u001b[38;5;21;01mmatplotlib\u001b[39;00m\u001b[38;5;21;01m.\u001b[39;00m\u001b[38;5;21;01mpyplot\u001b[39;00m\u001b[38;5;250m \u001b[39m\u001b[38;5;28;01mas\u001b[39;00m\u001b[38;5;250m \u001b[39m\u001b[38;5;21;01mplt\u001b[39;00m\n\u001b[0;32m      2\u001b[0m \u001b[38;5;28;01mfrom\u001b[39;00m\u001b[38;5;250m \u001b[39m\u001b[38;5;21;01mskimage\u001b[39;00m\u001b[38;5;250m \u001b[39m\u001b[38;5;28;01mimport\u001b[39;00m io, color\n\u001b[0;32m      3\u001b[0m \u001b[38;5;28;01mimport\u001b[39;00m\u001b[38;5;250m \u001b[39m\u001b[38;5;21;01mnumpy\u001b[39;00m\u001b[38;5;250m \u001b[39m\u001b[38;5;28;01mas\u001b[39;00m\u001b[38;5;250m \u001b[39m\u001b[38;5;21;01mnp\u001b[39;00m\n",
      "File \u001b[1;32mc:\\Users\\alanc\\miniconda3\\envs\\ece60146\\lib\\site-packages\\matplotlib\\__init__.py:997\u001b[0m\n\u001b[0;32m    992\u001b[0m     _log\u001b[38;5;241m.\u001b[39mdebug(\u001b[38;5;124m'\u001b[39m\u001b[38;5;124mloaded rc file \u001b[39m\u001b[38;5;132;01m%s\u001b[39;00m\u001b[38;5;124m'\u001b[39m, fname)\n\u001b[0;32m    994\u001b[0m     \u001b[38;5;28;01mreturn\u001b[39;00m config\n\u001b[1;32m--> 997\u001b[0m rcParamsDefault \u001b[38;5;241m=\u001b[39m \u001b[43m_rc_params_in_file\u001b[49m\u001b[43m(\u001b[49m\n\u001b[0;32m    998\u001b[0m \u001b[43m    \u001b[49m\u001b[43mcbook\u001b[49m\u001b[38;5;241;43m.\u001b[39;49m\u001b[43m_get_data_path\u001b[49m\u001b[43m(\u001b[49m\u001b[38;5;124;43m\"\u001b[39;49m\u001b[38;5;124;43mmatplotlibrc\u001b[39;49m\u001b[38;5;124;43m\"\u001b[39;49m\u001b[43m)\u001b[49m\u001b[43m,\u001b[49m\n\u001b[0;32m    999\u001b[0m \u001b[43m    \u001b[49m\u001b[38;5;66;43;03m# Strip leading comment.\u001b[39;49;00m\n\u001b[0;32m   1000\u001b[0m \u001b[43m    \u001b[49m\u001b[43mtransform\u001b[49m\u001b[38;5;241;43m=\u001b[39;49m\u001b[38;5;28;43;01mlambda\u001b[39;49;00m\u001b[43m \u001b[49m\u001b[43mline\u001b[49m\u001b[43m:\u001b[49m\u001b[43m \u001b[49m\u001b[43mline\u001b[49m\u001b[43m[\u001b[49m\u001b[38;5;241;43m1\u001b[39;49m\u001b[43m:\u001b[49m\u001b[43m]\u001b[49m\u001b[43m \u001b[49m\u001b[38;5;28;43;01mif\u001b[39;49;00m\u001b[43m \u001b[49m\u001b[43mline\u001b[49m\u001b[38;5;241;43m.\u001b[39;49m\u001b[43mstartswith\u001b[49m\u001b[43m(\u001b[49m\u001b[38;5;124;43m\"\u001b[39;49m\u001b[38;5;124;43m#\u001b[39;49m\u001b[38;5;124;43m\"\u001b[39;49m\u001b[43m)\u001b[49m\u001b[43m \u001b[49m\u001b[38;5;28;43;01melse\u001b[39;49;00m\u001b[43m \u001b[49m\u001b[43mline\u001b[49m\u001b[43m,\u001b[49m\n\u001b[0;32m   1001\u001b[0m \u001b[43m    \u001b[49m\u001b[43mfail_on_error\u001b[49m\u001b[38;5;241;43m=\u001b[39;49m\u001b[38;5;28;43;01mTrue\u001b[39;49;00m\u001b[43m)\u001b[49m\n\u001b[0;32m   1002\u001b[0m rcParamsDefault\u001b[38;5;241m.\u001b[39m_update_raw(rcsetup\u001b[38;5;241m.\u001b[39m_hardcoded_defaults)\n\u001b[0;32m   1003\u001b[0m rcParamsDefault\u001b[38;5;241m.\u001b[39m_ensure_has_backend()\n",
      "File \u001b[1;32mc:\\Users\\alanc\\miniconda3\\envs\\ece60146\\lib\\site-packages\\matplotlib\\__init__.py:934\u001b[0m, in \u001b[0;36m_rc_params_in_file\u001b[1;34m(fname, transform, fail_on_error)\u001b[0m\n\u001b[0;32m    932\u001b[0m \u001b[38;5;28;01mif\u001b[39;00m key \u001b[38;5;129;01min\u001b[39;00m rcsetup\u001b[38;5;241m.\u001b[39m_validators:\n\u001b[0;32m    933\u001b[0m     \u001b[38;5;28;01mif\u001b[39;00m fail_on_error:\n\u001b[1;32m--> 934\u001b[0m         \u001b[43mconfig\u001b[49m\u001b[43m[\u001b[49m\u001b[43mkey\u001b[49m\u001b[43m]\u001b[49m \u001b[38;5;241m=\u001b[39m val  \u001b[38;5;66;03m# try to convert to proper type or raise\u001b[39;00m\n\u001b[0;32m    935\u001b[0m     \u001b[38;5;28;01melse\u001b[39;00m:\n\u001b[0;32m    936\u001b[0m         \u001b[38;5;28;01mtry\u001b[39;00m:\n",
      "File \u001b[1;32mc:\\Users\\alanc\\miniconda3\\envs\\ece60146\\lib\\site-packages\\matplotlib\\__init__.py:769\u001b[0m, in \u001b[0;36mRcParams.__setitem__\u001b[1;34m(self, key, val)\u001b[0m\n\u001b[0;32m    767\u001b[0m             \u001b[38;5;28;01mreturn\u001b[39;00m\n\u001b[0;32m    768\u001b[0m \u001b[38;5;28;01mtry\u001b[39;00m:\n\u001b[1;32m--> 769\u001b[0m     cval \u001b[38;5;241m=\u001b[39m \u001b[38;5;28;43mself\u001b[39;49m\u001b[38;5;241;43m.\u001b[39;49m\u001b[43mvalidate\u001b[49m\u001b[43m[\u001b[49m\u001b[43mkey\u001b[49m\u001b[43m]\u001b[49m\u001b[43m(\u001b[49m\u001b[43mval\u001b[49m\u001b[43m)\u001b[49m\n\u001b[0;32m    770\u001b[0m \u001b[38;5;28;01mexcept\u001b[39;00m \u001b[38;5;167;01mValueError\u001b[39;00m \u001b[38;5;28;01mas\u001b[39;00m ve:\n\u001b[0;32m    771\u001b[0m     \u001b[38;5;28;01mraise\u001b[39;00m \u001b[38;5;167;01mValueError\u001b[39;00m(\u001b[38;5;124mf\u001b[39m\u001b[38;5;124m\"\u001b[39m\u001b[38;5;124mKey \u001b[39m\u001b[38;5;132;01m{\u001b[39;00mkey\u001b[38;5;132;01m}\u001b[39;00m\u001b[38;5;124m: \u001b[39m\u001b[38;5;132;01m{\u001b[39;00mve\u001b[38;5;132;01m}\u001b[39;00m\u001b[38;5;124m\"\u001b[39m) \u001b[38;5;28;01mfrom\u001b[39;00m\u001b[38;5;250m \u001b[39m\u001b[38;5;28;01mNone\u001b[39;00m\n",
      "File \u001b[1;32mc:\\Users\\alanc\\miniconda3\\envs\\ece60146\\lib\\site-packages\\matplotlib\\rcsetup.py:342\u001b[0m, in \u001b[0;36mvalidate_color\u001b[1;34m(s)\u001b[0m\n\u001b[0;32m    339\u001b[0m         \u001b[38;5;28;01mif\u001b[39;00m is_color_like(stmp):\n\u001b[0;32m    340\u001b[0m             \u001b[38;5;28;01mreturn\u001b[39;00m stmp\n\u001b[1;32m--> 342\u001b[0m \u001b[38;5;28;01mif\u001b[39;00m \u001b[43mis_color_like\u001b[49m\u001b[43m(\u001b[49m\u001b[43ms\u001b[49m\u001b[43m)\u001b[49m:\n\u001b[0;32m    343\u001b[0m     \u001b[38;5;28;01mreturn\u001b[39;00m s\n\u001b[0;32m    345\u001b[0m \u001b[38;5;66;03m# If it is still valid, it must be a tuple (as a string from matplotlibrc).\u001b[39;00m\n",
      "File \u001b[1;32mc:\\Users\\alanc\\miniconda3\\envs\\ece60146\\lib\\site-packages\\matplotlib\\colors.py:229\u001b[0m, in \u001b[0;36mis_color_like\u001b[1;34m(c)\u001b[0m\n\u001b[0;32m    227\u001b[0m     \u001b[38;5;28;01mreturn\u001b[39;00m \u001b[38;5;28;01mTrue\u001b[39;00m\n\u001b[0;32m    228\u001b[0m \u001b[38;5;28;01mtry\u001b[39;00m:\n\u001b[1;32m--> 229\u001b[0m     \u001b[43mto_rgba\u001b[49m\u001b[43m(\u001b[49m\u001b[43mc\u001b[49m\u001b[43m)\u001b[49m\n\u001b[0;32m    230\u001b[0m \u001b[38;5;28;01mexcept\u001b[39;00m (\u001b[38;5;167;01mTypeError\u001b[39;00m, \u001b[38;5;167;01mValueError\u001b[39;00m):\n\u001b[0;32m    231\u001b[0m     \u001b[38;5;28;01mreturn\u001b[39;00m \u001b[38;5;28;01mFalse\u001b[39;00m\n",
      "File \u001b[1;32mc:\\Users\\alanc\\miniconda3\\envs\\ece60146\\lib\\site-packages\\matplotlib\\colors.py:316\u001b[0m, in \u001b[0;36mto_rgba\u001b[1;34m(c, alpha)\u001b[0m\n\u001b[0;32m    314\u001b[0m     rgba \u001b[38;5;241m=\u001b[39m \u001b[38;5;28;01mNone\u001b[39;00m\n\u001b[0;32m    315\u001b[0m \u001b[38;5;28;01mif\u001b[39;00m rgba \u001b[38;5;129;01mis\u001b[39;00m \u001b[38;5;28;01mNone\u001b[39;00m:  \u001b[38;5;66;03m# Suppress exception chaining of cache lookup failure.\u001b[39;00m\n\u001b[1;32m--> 316\u001b[0m     rgba \u001b[38;5;241m=\u001b[39m \u001b[43m_to_rgba_no_colorcycle\u001b[49m\u001b[43m(\u001b[49m\u001b[43mc\u001b[49m\u001b[43m,\u001b[49m\u001b[43m \u001b[49m\u001b[43malpha\u001b[49m\u001b[43m)\u001b[49m\n\u001b[0;32m    317\u001b[0m     \u001b[38;5;28;01mtry\u001b[39;00m:\n\u001b[0;32m    318\u001b[0m         _colors_full_map\u001b[38;5;241m.\u001b[39mcache[c, alpha] \u001b[38;5;241m=\u001b[39m rgba\n",
      "File \u001b[1;32mc:\\Users\\alanc\\miniconda3\\envs\\ece60146\\lib\\site-packages\\matplotlib\\colors.py:338\u001b[0m, in \u001b[0;36m_to_rgba_no_colorcycle\u001b[1;34m(c, alpha)\u001b[0m\n\u001b[0;32m    336\u001b[0m     \u001b[38;5;28;01mraise\u001b[39;00m \u001b[38;5;167;01mValueError\u001b[39;00m(\u001b[38;5;124m\"\u001b[39m\u001b[38;5;124m'\u001b[39m\u001b[38;5;124malpha\u001b[39m\u001b[38;5;124m'\u001b[39m\u001b[38;5;124m must be between 0 and 1, inclusive\u001b[39m\u001b[38;5;124m\"\u001b[39m)\n\u001b[0;32m    337\u001b[0m orig_c \u001b[38;5;241m=\u001b[39m c\n\u001b[1;32m--> 338\u001b[0m \u001b[38;5;28;01mif\u001b[39;00m c \u001b[38;5;129;01mis\u001b[39;00m \u001b[43mnp\u001b[49m\u001b[38;5;241;43m.\u001b[39;49m\u001b[43mma\u001b[49m\u001b[38;5;241m.\u001b[39mmasked:\n\u001b[0;32m    339\u001b[0m     \u001b[38;5;28;01mreturn\u001b[39;00m (\u001b[38;5;241m0.\u001b[39m, \u001b[38;5;241m0.\u001b[39m, \u001b[38;5;241m0.\u001b[39m, \u001b[38;5;241m0.\u001b[39m)\n\u001b[0;32m    340\u001b[0m \u001b[38;5;28;01mif\u001b[39;00m \u001b[38;5;28misinstance\u001b[39m(c, \u001b[38;5;28mstr\u001b[39m):\n",
      "File \u001b[1;32mc:\\Users\\alanc\\miniconda3\\envs\\ece60146\\lib\\site-packages\\numpy\\__init__.py:343\u001b[0m, in \u001b[0;36m__getattr__\u001b[1;34m(attr)\u001b[0m\n\u001b[0;32m    336\u001b[0m \u001b[38;5;28;01mdef\u001b[39;00m\u001b[38;5;250m \u001b[39m\u001b[38;5;21m__dir__\u001b[39m():\n\u001b[0;32m    337\u001b[0m     public_symbols \u001b[38;5;241m=\u001b[39m \u001b[38;5;28mglobals\u001b[39m()\u001b[38;5;241m.\u001b[39mkeys() \u001b[38;5;241m|\u001b[39m {\u001b[38;5;124m'\u001b[39m\u001b[38;5;124mtesting\u001b[39m\u001b[38;5;124m'\u001b[39m}\n\u001b[0;32m    338\u001b[0m     public_symbols \u001b[38;5;241m-\u001b[39m\u001b[38;5;241m=\u001b[39m {\n\u001b[0;32m    339\u001b[0m         \u001b[38;5;124m\"\u001b[39m\u001b[38;5;124mcore\u001b[39m\u001b[38;5;124m\"\u001b[39m, \u001b[38;5;124m\"\u001b[39m\u001b[38;5;124mmatrixlib\u001b[39m\u001b[38;5;124m\"\u001b[39m,\n\u001b[0;32m    340\u001b[0m         \u001b[38;5;66;03m# These were moved in 1.25 and may be deprecated eventually:\u001b[39;00m\n\u001b[0;32m    341\u001b[0m         \u001b[38;5;124m\"\u001b[39m\u001b[38;5;124mModuleDeprecationWarning\u001b[39m\u001b[38;5;124m\"\u001b[39m, \u001b[38;5;124m\"\u001b[39m\u001b[38;5;124mVisibleDeprecationWarning\u001b[39m\u001b[38;5;124m\"\u001b[39m,\n\u001b[0;32m    342\u001b[0m         \u001b[38;5;124m\"\u001b[39m\u001b[38;5;124mComplexWarning\u001b[39m\u001b[38;5;124m\"\u001b[39m, \u001b[38;5;124m\"\u001b[39m\u001b[38;5;124mTooHardError\u001b[39m\u001b[38;5;124m\"\u001b[39m, \u001b[38;5;124m\"\u001b[39m\u001b[38;5;124mAxisError\u001b[39m\u001b[38;5;124m\"\u001b[39m\n\u001b[1;32m--> 343\u001b[0m     }\n\u001b[0;32m    344\u001b[0m     \u001b[38;5;28;01mreturn\u001b[39;00m \u001b[38;5;28mlist\u001b[39m(public_symbols)\n",
      "File \u001b[1;32mc:\\Users\\alanc\\miniconda3\\envs\\ece60146\\lib\\site-packages\\numpy\\ma\\__init__.py:42\u001b[0m\n\u001b[0;32m      1\u001b[0m \u001b[38;5;124;03m\"\"\"\u001b[39;00m\n\u001b[0;32m      2\u001b[0m \u001b[38;5;124;03m=============\u001b[39;00m\n\u001b[0;32m      3\u001b[0m \u001b[38;5;124;03mMasked Arrays\u001b[39;00m\n\u001b[1;32m   (...)\u001b[0m\n\u001b[0;32m     40\u001b[0m \n\u001b[0;32m     41\u001b[0m \u001b[38;5;124;03m\"\"\"\u001b[39;00m\n\u001b[1;32m---> 42\u001b[0m \u001b[38;5;28;01mfrom\u001b[39;00m\u001b[38;5;250m \u001b[39m\u001b[38;5;21;01m.\u001b[39;00m\u001b[38;5;250m \u001b[39m\u001b[38;5;28;01mimport\u001b[39;00m core\n\u001b[0;32m     43\u001b[0m \u001b[38;5;28;01mfrom\u001b[39;00m\u001b[38;5;250m \u001b[39m\u001b[38;5;21;01m.\u001b[39;00m\u001b[38;5;21;01mcore\u001b[39;00m\u001b[38;5;250m \u001b[39m\u001b[38;5;28;01mimport\u001b[39;00m \u001b[38;5;241m*\u001b[39m\n\u001b[0;32m     45\u001b[0m \u001b[38;5;28;01mfrom\u001b[39;00m\u001b[38;5;250m \u001b[39m\u001b[38;5;21;01m.\u001b[39;00m\u001b[38;5;250m \u001b[39m\u001b[38;5;28;01mimport\u001b[39;00m extras\n",
      "File \u001b[1;32mc:\\Users\\alanc\\miniconda3\\envs\\ece60146\\lib\\site-packages\\numpy\\ma\\core.py:1246\u001b[0m\n\u001b[0;32m   1242\u001b[0m         \u001b[38;5;28;01mreturn\u001b[39;00m masked_result\n\u001b[0;32m   1245\u001b[0m \u001b[38;5;66;03m# Unary ufuncs\u001b[39;00m\n\u001b[1;32m-> 1246\u001b[0m exp \u001b[38;5;241m=\u001b[39m \u001b[43m_MaskedUnaryOperation\u001b[49m\u001b[43m(\u001b[49m\u001b[43mumath\u001b[49m\u001b[38;5;241;43m.\u001b[39;49m\u001b[43mexp\u001b[49m\u001b[43m)\u001b[49m\n\u001b[0;32m   1247\u001b[0m conjugate \u001b[38;5;241m=\u001b[39m _MaskedUnaryOperation(umath\u001b[38;5;241m.\u001b[39mconjugate)\n\u001b[0;32m   1248\u001b[0m sin \u001b[38;5;241m=\u001b[39m _MaskedUnaryOperation(umath\u001b[38;5;241m.\u001b[39msin)\n",
      "File \u001b[1;32mc:\\Users\\alanc\\miniconda3\\envs\\ece60146\\lib\\site-packages\\numpy\\ma\\core.py:967\u001b[0m, in \u001b[0;36m_MaskedUnaryOperation.__init__\u001b[1;34m(self, mufunc, fill, domain)\u001b[0m\n\u001b[0;32m    966\u001b[0m \u001b[38;5;28;01mdef\u001b[39;00m\u001b[38;5;250m \u001b[39m\u001b[38;5;21m__init__\u001b[39m(\u001b[38;5;28mself\u001b[39m, mufunc, fill\u001b[38;5;241m=\u001b[39m\u001b[38;5;241m0\u001b[39m, domain\u001b[38;5;241m=\u001b[39m\u001b[38;5;28;01mNone\u001b[39;00m):\n\u001b[1;32m--> 967\u001b[0m     \u001b[38;5;28;43msuper\u001b[39;49m\u001b[43m(\u001b[49m\u001b[43m)\u001b[49m\u001b[38;5;241;43m.\u001b[39;49m\u001b[38;5;21;43m__init__\u001b[39;49m\u001b[43m(\u001b[49m\u001b[43mmufunc\u001b[49m\u001b[43m)\u001b[49m\n\u001b[0;32m    968\u001b[0m     \u001b[38;5;28mself\u001b[39m\u001b[38;5;241m.\u001b[39mfill \u001b[38;5;241m=\u001b[39m fill\n\u001b[0;32m    969\u001b[0m     \u001b[38;5;28mself\u001b[39m\u001b[38;5;241m.\u001b[39mdomain \u001b[38;5;241m=\u001b[39m domain\n",
      "File \u001b[1;32mc:\\Users\\alanc\\miniconda3\\envs\\ece60146\\lib\\site-packages\\numpy\\ma\\core.py:942\u001b[0m, in \u001b[0;36m_MaskedUFunc.__init__\u001b[1;34m(self, ufunc)\u001b[0m\n\u001b[0;32m    940\u001b[0m \u001b[38;5;28mself\u001b[39m\u001b[38;5;241m.\u001b[39m\u001b[38;5;18m__doc__\u001b[39m \u001b[38;5;241m=\u001b[39m ufunc\u001b[38;5;241m.\u001b[39m\u001b[38;5;18m__doc__\u001b[39m\n\u001b[0;32m    941\u001b[0m \u001b[38;5;28mself\u001b[39m\u001b[38;5;241m.\u001b[39m\u001b[38;5;18m__name__\u001b[39m \u001b[38;5;241m=\u001b[39m ufunc\u001b[38;5;241m.\u001b[39m\u001b[38;5;18m__name__\u001b[39m\n\u001b[1;32m--> 942\u001b[0m \u001b[38;5;28mself\u001b[39m\u001b[38;5;241m.\u001b[39m\u001b[38;5;18m__qualname__\u001b[39m \u001b[38;5;241m=\u001b[39m \u001b[43mufunc\u001b[49m\u001b[38;5;241;43m.\u001b[39;49m\u001b[38;5;18;43m__qualname__\u001b[39;49m\n",
      "\u001b[1;31mAttributeError\u001b[0m: 'numpy.ufunc' object has no attribute '__qualname__'"
     ]
    }
   ],
   "source": [
    "import matplotlib.pyplot as plt\n",
    "from skimage import io, color\n",
    "import numpy as np\n",
    "import cv2\n",
    "\n",
    "# this code is borrowed from HW7.pdf\n",
    "local_image_dir = \"./../data/Multi-instance_images_from_COCO(HW7)/train\"\n",
    "ann_file_train = \"./../HW6/annotations/instances_train2014.json\"\n",
    "\n",
    "\n",
    "class_list = ['pizza', 'cat', 'bus']\n",
    "\n",
    "\n",
    "###########################\n",
    "# Mapping from COCO label to Class indices\n",
    "coco_labels_inverse = {}\n",
    "coco = COCO(ann_file_train)\n",
    "catIds = coco.getCatIds(catNms=class_list)\n",
    "categories = coco.loadCats(catIds)\n",
    "categories.sort(key=lambda x: x['id'])\n",
    "print(categories)\n",
    "\n",
    "for idx, in_class in enumerate(class_list):\n",
    "    for c in categories:\n",
    "        if c['name'] == in_class:\n",
    "            coco_labels_inverse[c['id']] = idx\n",
    "print(coco_labels_inverse)\n",
    "\n",
    "#############################\n",
    "# Retrieve Image list\n",
    "imgIds = coco.getImgIds(catIds=catIds)\n",
    "\n",
    "#############################\n",
    "# Display one random image with annotation\n",
    "idx = np.random.randint(0, len(imgIds))\n",
    "img = coco.loadImgs(imgIds[idx])[0]\n",
    "\n",
    "\n",
    "# I = io.imread(img['coco_url']) # not using URL\n",
    "local_img_path = os.path.join(local_image_dir, img['file_name'])\n",
    "I = io.imread(local_img_path)\n",
    "\n",
    "# change from grayscale to color\n",
    "if len(I.shape) == 2:\n",
    "    I = color.gray2rgb(I)\n",
    "\n",
    "# pay attention to the flag, iscrowd being set to False\n",
    "annIds = coco.getAnnIds(imgIds=img['id'], catIds=catIds, iscrowd=False)\n",
    "anns = coco.loadAnns(annIds)\n",
    "\n",
    "fig, ax = plt.subplots(1, 1)\n",
    "image = np.uint8(I)\n",
    "\n",
    "for ann in anns:\n",
    "    [x, y, w, h] = ann['bbox']\n",
    "    label = coco_labels_inverse[ann['category_id']]\n",
    "    image = cv2.rectangle(image, (int(x), int(y)), (int(x + w), int(y + h)), (36, 255, 12), 2)\n",
    "    image = cv2.putText(image, class_list[label], (int(x), int(y - 10)), cv2.FONT_HERSHEY_SIMPLEX, 0.8, (36, 255, 12), 2)\n",
    "\n",
    "ax.imshow(image)\n",
    "ax.set_axis_off()\n",
    "plt.axis('tight')\n",
    "plt.show()\n"
   ]
  },
  {
   "cell_type": "markdown",
   "metadata": {},
   "source": [
    "# 2. Dataloader"
   ]
  },
  {
   "cell_type": "markdown",
   "metadata": {},
   "source": [
    "### 2.1 Code block showing all parameters for yolo vector are generated"
   ]
  },
  {
   "cell_type": "markdown",
   "metadata": {},
   "source": [
    "### 2.2 explanationg showing all parameters for yolo vector are generated"
   ]
  },
  {
   "cell_type": "markdown",
   "metadata": {},
   "source": [
    "# 3. Training"
   ]
  },
  {
   "cell_type": "markdown",
   "metadata": {},
   "source": [
    "### 3.1 Code block showing how yolo tensor is built"
   ]
  },
  {
   "cell_type": "markdown",
   "metadata": {},
   "source": [
    "### 3.2 explanation of building how yolo tensor is built"
   ]
  },
  {
   "cell_type": "markdown",
   "metadata": {},
   "source": [
    "### 3.3 BCE, CE, MSE loss curves"
   ]
  },
  {
   "cell_type": "markdown",
   "metadata": {},
   "source": [
    "# 4. Evaluation"
   ]
  },
  {
   "cell_type": "markdown",
   "metadata": {},
   "source": [
    "### 4.1 Code block translate yolo tensor to BB pred and class label"
   ]
  },
  {
   "cell_type": "markdown",
   "metadata": {},
   "source": [
    "### 4.2 Explanation translate yolo tensor to BB pred and class label"
   ]
  },
  {
   "cell_type": "markdown",
   "metadata": {},
   "source": [
    "### 4.3 24 images"
   ]
  },
  {
   "cell_type": "markdown",
   "metadata": {},
   "source": [
    "# 5. Bonus IoU loss with DIoU"
   ]
  },
  {
   "cell_type": "markdown",
   "metadata": {},
   "source": [
    "### 5.1 BCE, CE, DIoU loss curves"
   ]
  },
  {
   "cell_type": "markdown",
   "metadata": {},
   "source": [
    "### 5.2 24 images"
   ]
  },
  {
   "cell_type": "markdown",
   "metadata": {},
   "source": []
  }
 ],
 "metadata": {
  "kernelspec": {
   "display_name": "ece60146",
   "language": "python",
   "name": "python3"
  },
  "language_info": {
   "codemirror_mode": {
    "name": "ipython",
    "version": 3
   },
   "file_extension": ".py",
   "mimetype": "text/x-python",
   "name": "python",
   "nbconvert_exporter": "python",
   "pygments_lexer": "ipython3",
   "version": "3.10.16"
  }
 },
 "nbformat": 4,
 "nbformat_minor": 2
}
