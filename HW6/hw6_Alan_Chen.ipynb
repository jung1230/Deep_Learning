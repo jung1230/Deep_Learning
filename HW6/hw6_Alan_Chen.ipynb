{
 "cells": [
  {
   "cell_type": "markdown",
   "metadata": {},
   "source": [
    "# 1. Observations on 1 pixel kernel"
   ]
  },
  {
   "cell_type": "code",
   "execution_count": null,
   "metadata": {},
   "outputs": [],
   "source": []
  },
  {
   "source": [
    "# 2. BMENet with maxpool"
   ],
   "cell_type": "markdown",
   "metadata": {}
  },
  {
   "cell_type": "code",
   "execution_count": 2,
   "metadata": {},
   "outputs": [
    {
     "output_type": "stream",
     "name": "stdout",
     "text": [
      "\n\ncurrent_dir = /home/chen4126/ece60146/HW6\n"
     ]
    }
   ],
   "source": [
    "import os\n",
    "current_dir = os.getcwd()\n",
    "print(\"\\n\\ncurrent_dir = %s\" % current_dir)\n"
   ]
  },
  {
   "cell_type": "code",
   "execution_count": null,
   "metadata": {},
   "outputs": [],
   "source": [
    "from DLStudio import *\n",
    "\n",
    "dls = DLStudio(\n",
    "#                  dataroot = \"/home/kak/ImageDatasets/CIFAR-10/\",\n",
    "                dataroot = \"./../data/CIFAR-10/\",\n",
    "                image_size = [32,32],\n",
    "                path_saved_model = \"./saved_model\",\n",
    "                momentum = 0.9,\n",
    "                learning_rate = 1e-4,\n",
    "                epochs = 6,\n",
    "                batch_size = 4,\n",
    "                classes = ('plane','car','bird','cat','deer','dog','frog','horse','ship','truck'),\n",
    "                use_gpu = True,\n",
    "            )\n",
    "\n",
    "bme_net = dls.BMEnet(dls, skip_connections=True, depth=8)         ## if you want to use skips\n",
    "#bme_net = skip_con.BMEnet(skip_connections=False, depth=8)         ## if you don't want to use skips\n",
    "\n",
    "bme_net.load_cifar_10_dataset()\n",
    "\n",
    "## display network properties\n",
    "number_of_learnable_params = sum(p.numel() for p in bme_net.parameters() if p.requires_grad)\n",
    "print(\"\\n\\nThe number of learnable parameters in the model: %d\" % number_of_learnable_params)\n",
    "\n",
    "## training and testing\n",
    "bme_net.run_code_for_training(bme_net, display_images=False)\n",
    "\n",
    "#import pymsgbox      \n",
    "#response = pymsgbox.confirm(\"Finished training.  Start testing on unseen data?\") \n",
    "#if response == \"OK\":   \n",
    "\n",
    "bme_net.run_code_for_testing(bme_net, display_images=False)\n"
   ]
  },
  {
   "cell_type": "markdown",
   "metadata": {},
   "source": [
    "### 2.1 Train loss curve"
   ]
  },
  {
   "cell_type": "markdown",
   "metadata": {},
   "source": [
    "### 2.2 Confusion Matrix"
   ]
  },
  {
   "cell_type": "markdown",
   "metadata": {},
   "source": [
    "# 3. BMENet with stride"
   ]
  },
  {
   "cell_type": "markdown",
   "metadata": {},
   "source": [
    "### 3.1 Train loss curve"
   ]
  },
  {
   "cell_type": "markdown",
   "metadata": {},
   "source": [
    "### 3.2 Confusion Matrix"
   ]
  },
  {
   "cell_type": "markdown",
   "metadata": {},
   "source": [
    "# 4. Table1: Overall accuracy of 2 models table"
   ]
  },
  {
   "cell_type": "markdown",
   "metadata": {},
   "source": [
    "# 5. Table2: Per class accuracy of 2 models (10x2 table)"
   ]
  },
  {
   "cell_type": "markdown",
   "metadata": {},
   "source": [
    "# 6. Observations of Maxpool vs Stride"
   ]
  },
  {
   "cell_type": "markdown",
   "metadata": {},
   "source": [
    "# 7. Skip Connections with MSCOCO"
   ]
  },
  {
   "cell_type": "markdown",
   "metadata": {},
   "source": [
    "### 7.1 5x3 images"
   ]
  },
  {
   "cell_type": "markdown",
   "metadata": {},
   "source": [
    "### 7.2 train loss curve"
   ]
  },
  {
   "cell_type": "markdown",
   "metadata": {},
   "source": [
    "### 7.3 conf matrix 5x5"
   ]
  },
  {
   "cell_type": "markdown",
   "metadata": {},
   "source": [
    "### 7.4 overall accuracy"
   ]
  },
  {
   "cell_type": "markdown",
   "metadata": {},
   "source": [
    "### 7.5 per class accuracy 5x1 table"
   ]
  },
  {
   "cell_type": "markdown",
   "metadata": {},
   "source": [
    "### 7.6 observations"
   ]
  }
 ],
 "metadata": {
  "kernelspec": {
   "name": "ece60146",
   "display_name": "Python 3.10.16 64-bit ('ece60146': conda)"
  }
 },
 "nbformat": 4,
 "nbformat_minor": 2
}