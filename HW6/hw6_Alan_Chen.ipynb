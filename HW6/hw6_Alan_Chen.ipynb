{
 "cells": [
  {
   "cell_type": "markdown",
   "metadata": {},
   "source": [
    "# 1. Observations on 1 pixel kernel"
   ]
  },
  {
   "cell_type": "code",
   "execution_count": null,
   "metadata": {},
   "outputs": [],
   "source": []
  },
  {
   "cell_type": "markdown",
   "metadata": {},
   "source": [
    "# 2. BMENet with maxpool"
   ]
  },
  {
   "cell_type": "code",
   "execution_count": 2,
   "metadata": {},
   "outputs": [
    {
     "name": "stdout",
     "output_type": "stream",
     "text": [
      "\n",
      "\n",
      "current_dir = /home/chen4126/ece60146/HW6\n"
     ]
    }
   ],
   "source": [
    "from DLStudio import *\n",
    "\n",
    "class BMEnetModifiedForMaxpool(BMEnet):\n",
    "    def __init__(self, dl_studio, skip_connections=True, depth=8, use_maxpool=False):\n",
    "        super().__init__(dl_studio, skip_connections, depth, use_maxpool)\n",
    "\n",
    "    class SkipBlock(nn.Module):\n",
    "            \"\"\"\n",
    "            Class Path:   DLStudio  ->  BMEnet  ->  SkipBlock\n",
    "            \"\"\"            \n",
    "            def __init__(self, in_ch, out_ch, use_maxpool=False, skip_connections=True):\n",
    "                super(DLStudio.BMEnet.SkipBlock, self).__init__()\n",
    "                self.use_maxpool = use_maxpool\n",
    "                self.skip_connections = skip_connections\n",
    "                self.in_ch = in_ch\n",
    "                self.out_ch = out_ch\n",
    "                self.convo1 = nn.Conv2d(in_ch, in_ch, 3, stride=1, padding=1)\n",
    "                self.convo2 = nn.Conv2d(in_ch, out_ch, 3, stride=1, padding=1)\n",
    "                self.bn1 = nn.BatchNorm2d(in_ch)\n",
    "                self.bn2 = nn.BatchNorm2d(out_ch)\n",
    "                self.in2out  =  nn.Conv2d(in_ch, out_ch, 1)       \n",
    "                if use_maxpool:\n",
    "                    ## instead of stide, we use maxpooling\n",
    "                    self.downsampler1 = nn.MaxPool2d(2)\n",
    "                    self.downsampler2 = nn.MaxPool2d(2)\n",
    "                    \n",
    "            def forward(self, x):\n",
    "                identity = x                                     \n",
    "                out = self.convo1(x)                              \n",
    "                out = self.bn1(out)                              \n",
    "                out = nn.functional.relu(out)\n",
    "                out = self.convo2(out)                              \n",
    "                out = self.bn2(out)                              \n",
    "                out = nn.functional.relu(out)\n",
    "                if self.downsample:\n",
    "                    identity = self.downsampler1(identity)\n",
    "                    out = self.downsampler2(out)\n",
    "                if self.skip_connections:\n",
    "                    if (self.in_ch == self.out_ch) and (self.downsample is False):\n",
    "                        out = out + identity\n",
    "                    elif (self.in_ch != self.out_ch) and (self.downsample is False):\n",
    "                        identity = self.in2out( identity )     \n",
    "                        out = out + identity\n",
    "                    elif (self.in_ch != self.out_ch) and (self.downsample is True):\n",
    "                        out = out + torch.cat((identity, identity), dim=1)\n",
    "                return out\n",
    "\n",
    "    "
   ]
  },
  {
   "cell_type": "code",
   "execution_count": null,
   "metadata": {},
   "outputs": [],
   "source": []
  },
  {
   "cell_type": "markdown",
   "metadata": {},
   "source": [
    "### 2.1 Train loss curve"
   ]
  },
  {
   "cell_type": "markdown",
   "metadata": {},
   "source": [
    "### 2.2 Confusion Matrix"
   ]
  },
  {
   "cell_type": "markdown",
   "metadata": {},
   "source": [
    "# 3. BMENet with stride"
   ]
  },
  {
   "cell_type": "code",
   "execution_count": null,
   "metadata": {},
   "outputs": [],
   "source": [
    "from DLStudio import *\n",
    "\n",
    "dls = DLStudio(\n",
    "#                  dataroot = \"/home/kak/ImageDatasets/CIFAR-10/\",\n",
    "                dataroot = \"./../data/CIFAR-10/\",\n",
    "                image_size = [32,32],\n",
    "                path_saved_model = \"./saved_model\",\n",
    "                momentum = 0.9,\n",
    "                learning_rate = 1e-4,\n",
    "                epochs = 6,\n",
    "                batch_size = 4,\n",
    "                classes = ('plane','car','bird','cat','deer','dog','frog','horse','ship','truck'),\n",
    "                use_gpu = True,\n",
    "            )\n",
    "\n",
    "bme_net = dls.BMEnet(dls, skip_connections=True, depth=8)         ## if you want to use skips\n",
    "\n",
    "bme_net.load_cifar_10_dataset()\n",
    "\n",
    "## display network properties\n",
    "number_of_learnable_params = sum(p.numel() for p in bme_net.parameters() if p.requires_grad)\n",
    "print(\"\\n\\nThe number of learnable parameters in the model: %d\" % number_of_learnable_params)\n",
    "\n",
    "## training and testing\n",
    "bme_net.run_code_for_training(bme_net, display_images=False)\n",
    "bme_net.run_code_for_testing(bme_net, display_images=False)\n"
   ]
  },
  {
   "cell_type": "markdown",
   "metadata": {},
   "source": [
    "### 3.1 Train loss curve"
   ]
  },
  {
   "cell_type": "markdown",
   "metadata": {},
   "source": [
    "### 3.2 Confusion Matrix"
   ]
  },
  {
   "cell_type": "markdown",
   "metadata": {},
   "source": [
    "# 4. Table1: Overall accuracy of 2 models table"
   ]
  },
  {
   "cell_type": "markdown",
   "metadata": {},
   "source": [
    "# 5. Table2: Per class accuracy of 2 models (10x2 table)"
   ]
  },
  {
   "cell_type": "markdown",
   "metadata": {},
   "source": [
    "# 6. Observations of Maxpool vs Stride"
   ]
  },
  {
   "cell_type": "markdown",
   "metadata": {},
   "source": [
    "# 7. Skip Connections with MSCOCO"
   ]
  },
  {
   "cell_type": "markdown",
   "metadata": {},
   "source": [
    "### 7.1 5x3 images"
   ]
  },
  {
   "cell_type": "markdown",
   "metadata": {},
   "source": [
    "### 7.2 train loss curve"
   ]
  },
  {
   "cell_type": "markdown",
   "metadata": {},
   "source": [
    "### 7.3 conf matrix 5x5"
   ]
  },
  {
   "cell_type": "markdown",
   "metadata": {},
   "source": [
    "### 7.4 overall accuracy"
   ]
  },
  {
   "cell_type": "markdown",
   "metadata": {},
   "source": [
    "### 7.5 per class accuracy 5x1 table"
   ]
  },
  {
   "cell_type": "markdown",
   "metadata": {},
   "source": [
    "### 7.6 observations"
   ]
  }
 ],
 "metadata": {
  "kernelspec": {
   "display_name": "Python 3.10.16 64-bit ('ece60146': conda)",
   "name": "ece60146"
  }
 },
 "nbformat": 4,
 "nbformat_minor": 2
}
